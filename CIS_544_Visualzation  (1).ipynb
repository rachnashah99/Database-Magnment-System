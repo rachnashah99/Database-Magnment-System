{
 "cells": [
  {
   "cell_type": "code",
   "execution_count": 1,
   "metadata": {},
   "outputs": [],
   "source": [
    "import numpy as np\n",
    "import pandas as pd\n",
    "import matplotlib as mpl\n",
    "import matplotlib.pyplot as plt\n",
    "import seaborn as sns\n",
    "import pyodbc"
   ]
  },
  {
   "cell_type": "code",
   "execution_count": 2,
   "metadata": {},
   "outputs": [],
   "source": [
    "pyodbc.drivers() #Create a variable to store the connection string \n",
    "\n",
    "conx_string = \"driver={SQL Server Native Client 11.0}; server=DESKTOP-HJQMQKK; database=DGDB; trusted_connection=YES\"\n",
    "query = \"select * from DG_Tables where Database_ID = 7\""
   ]
  },
  {
   "cell_type": "code",
   "execution_count": 3,
   "metadata": {},
   "outputs": [
    {
     "name": "stdout",
     "output_type": "stream",
     "text": [
      "[('\\tDGT000173\\t', '\\tADDRESS\\t', 7, '\\tADDRESS_Table\\t', datetime.date(2021, 11, 27), datetime.date(1900, 1, 1)), ('\\tDGT000174\\t', '\\tEMPLOYEE\\t', 7, '\\tEMPLOYEE_Table\\t', datetime.date(2021, 11, 27), datetime.date(1900, 1, 1)), ('\\tDGT000175\\t', '\\tORDERS\\t', 7, '\\tORDERS_Table\\t', datetime.date(2021, 11, 27), datetime.date(1900, 1, 1)), ('\\tDGT000176\\t', '\\tPRODUCT\\t', 7, '\\tPRODUCT_Table\\t', datetime.date(2021, 11, 27), datetime.date(1900, 1, 1)), ('\\tDGT000177\\t', '\\tCUSTOMER\\t', 7, '\\tCUSTOMER_Table\\t', datetime.date(2021, 11, 27), datetime.date(1900, 1, 1))]\n"
     ]
    }
   ],
   "source": [
    "#CONNECT AND EXTRACT DATA / INDIVIDUAL STEPS\n",
    "\n",
    "conx = pyodbc.connect(conx_string);\n",
    "cursor = conx.cursor();\n",
    "cursor.execute(query);\n",
    "data= cursor.fetchall()\n",
    "print(data[:10])\n",
    "conx.close()"
   ]
  },
  {
   "cell_type": "code",
   "execution_count": 7,
   "metadata": {},
   "outputs": [
    {
     "name": "stdout",
     "output_type": "stream",
     "text": [
      "  SCHEMA_NAME  #Table  #Records\n",
      "0        Book       5        22\n",
      "1        Camp       5        28\n",
      "2        FURN       8        30\n",
      "3       GAMES       6        28\n",
      "4        Prop       8        58\n",
      "5       PUBCO      24        37\n",
      "6          SP       3         9\n",
      "7        SPJ2       6        25\n",
      "8       Zeota      76       365\n"
     ]
    }
   ],
   "source": [
    "with pyodbc.connect(conx_string) as conx:\n",
    "    cursor = conx.cursor()\n",
    "    cursor.execute('select * FROM  DG_Attributes')\n",
    "    Query_One = cursor.fetchall()\n",
    "    \n",
    "\n",
    "df = pd.read_sql(query, conx)\n",
    "print(df.head(26))\n"
   ]
  },
  {
   "cell_type": "code",
   "execution_count": null,
   "metadata": {},
   "outputs": [],
   "source": []
  },
  {
   "cell_type": "code",
   "execution_count": 4,
   "metadata": {},
   "outputs": [
    {
     "ename": "NameError",
     "evalue": "name 'df' is not defined",
     "output_type": "error",
     "traceback": [
      "\u001b[1;31m---------------------------------------------------------------------------\u001b[0m",
      "\u001b[1;31mNameError\u001b[0m                                 Traceback (most recent call last)",
      "Input \u001b[1;32mIn [4]\u001b[0m, in \u001b[0;36m<cell line: 4>\u001b[1;34m()\u001b[0m\n\u001b[0;32m      1\u001b[0m \u001b[38;5;66;03m#ax = sns.countplot(x=\"schema_name\", y= \"count_fk\", data=df)\u001b[39;00m\n\u001b[0;32m      2\u001b[0m get_ipython()\u001b[38;5;241m.\u001b[39mrun_line_magic(\u001b[38;5;124m'\u001b[39m\u001b[38;5;124mmatplotlib\u001b[39m\u001b[38;5;124m'\u001b[39m, \u001b[38;5;124m'\u001b[39m\u001b[38;5;124minline\u001b[39m\u001b[38;5;124m'\u001b[39m)\n\u001b[1;32m----> 4\u001b[0m \u001b[43mdf\u001b[49m\u001b[38;5;241m.\u001b[39mplot\u001b[38;5;241m.\u001b[39mbar(x\u001b[38;5;241m=\u001b[39m\u001b[38;5;124m'\u001b[39m\u001b[38;5;124mschema_name\u001b[39m\u001b[38;5;124m'\u001b[39m, y\u001b[38;5;241m=\u001b[39m\u001b[38;5;124m'\u001b[39m\u001b[38;5;124mcount_fk\u001b[39m\u001b[38;5;124m'\u001b[39m, figsize\u001b[38;5;241m=\u001b[39m(\u001b[38;5;241m20\u001b[39m, \u001b[38;5;241m12\u001b[39m))\n",
      "\u001b[1;31mNameError\u001b[0m: name 'df' is not defined"
     ]
    }
   ],
   "source": [
    "#ax = sns.countplot(x=\"schema_name\", y= \"count_fk\", data=df)\n",
    "%matplotlib inline\n",
    "\n",
    "df.plot.bar(x='schema_name', y='count_fk', figsize=(20, 12))"
   ]
  },
  {
   "cell_type": "markdown",
   "metadata": {},
   "source": [
    "# 1. For every schema, list Schema, # tables, # records"
   ]
  },
  {
   "cell_type": "code",
   "execution_count": 8,
   "metadata": {},
   "outputs": [
    {
     "name": "stdout",
     "output_type": "stream",
     "text": [
      "  SCHEMA_NAME  #Table  #Records\n",
      "0        Book       5        22\n",
      "1        Camp       5        28\n",
      "2        FURN       8        30\n",
      "3       GAMES       6        28\n",
      "4        Prop       8        58\n",
      "5       PUBCO      24        37\n",
      "6          SP       3         9\n",
      "7        SPJ2       6        25\n",
      "8       Zeota      76       365\n"
     ]
    }
   ],
   "source": [
    "pyodbc.drivers() #Create a variable to store the connection string \n",
    "\n",
    "conx_string = \"driver={SQL Server Native Client 11.0}; server=DESKTOP-HJQMQKK; database=DGDB; trusted_connection=YES\"\n",
    "query = \"select s.SCHEMA_NAME, count(distinct t.table_id) as #Table, count(a.Attributes_ID) #Records from DG_Attributes a inner join DG_Tables t on t.Table_ID = a.Table_id inner join DG_Schema s on s.schema_ID = t.Database_ID group by s.schema_name\"\n",
    "\n",
    "df = pd.read_sql(query, conx)\n",
    "print(df)"
   ]
  },
  {
   "cell_type": "code",
   "execution_count": 169,
   "metadata": {},
   "outputs": [
    {
     "data": {
      "image/png": "[encoded data removed]",
      "text/plain": [
       "<Figure size 1080x864 with 1 Axes>"
      ]
     },
     "metadata": {
      "needs_background": "light"
     },
     "output_type": "display_data"
    }
   ],
   "source": [
    "%matplotlib inline\n",
    "\n",
    "ax =df.set_index('SCHEMA_NAME').plot(kind= 'bar', figsize=(15, 12) )\n",
    "\n",
    "\n",
    "\n",
    "\n",
    "\n",
    "ax.tick_params(axis='x', labelsize=15)\n",
    "ax.tick_params(axis='y', labelsize=15)"
   ]
  },
  {
   "cell_type": "markdown",
   "metadata": {},
   "source": [
    "# 2. For every schema, list table name, # attributes,#  PK_ attr, # FK_ attr, # NN_attr, # IDX_attr, # CC_attr, # UQ_attrs, # PGM_attr"
   ]
  },
  {
   "cell_type": "code",
   "execution_count": 173,
   "metadata": {},
   "outputs": [
    {
     "name": "stdout",
     "output_type": "stream",
     "text": [
      "    schema_name  NumberOfAttributes  NoOfPKs  NoOfFKs  NoOfCCs  NoOfIDXs  \\\n",
      "0          Camp                   5        1        0        1         4   \n",
      "1         PUBCO                   1        0        0        0         0   \n",
      "2         PUBCO                   1        0        0        0         0   \n",
      "3         PUBCO                   3        0        0        0         0   \n",
      "4         PUBCO                   2        0        0        0         0   \n",
      "..          ...                 ...      ...      ...      ...       ...   \n",
      "130       Zeota                   5        1        2        1         3   \n",
      "131        Prop                   4        2        0        0         2   \n",
      "132       Zeota                   6        1        2        0         3   \n",
      "133       Zeota                   7        1        0        0         1   \n",
      "134        Book                   3        2        2        0         0   \n",
      "\n",
      "     NoOfNNs  NoOfPGMs  NoOfUQIs  \n",
      "0          4         0         0  \n",
      "1          0         0         0  \n",
      "2          0         0         0  \n",
      "3          0         0         0  \n",
      "4          0         0         0  \n",
      "..       ...       ...       ...  \n",
      "130        5         0         0  \n",
      "131        0         0         0  \n",
      "132        4         0         0  \n",
      "133        1         0         0  \n",
      "134        2         1         0  \n",
      "\n",
      "[135 rows x 9 columns]\n"
     ]
    }
   ],
   "source": [
    "pyodbc.drivers() #Create a variable to store the connection string \n",
    "\n",
    "conx_string = \"driver={SQL Server Native Client 11.0}; server=DESKTOP-HJQMQKK; database=DGDB; trusted_connection=YES\"\n",
    "query = \"select schema_name, count(a.attributes_Id) as NumberOfAttributes,count(p.pk_id) as NoOfPKs, count(f.fk_id) NoOfFKs,  count(c.cc_id) NoOfCCs, count(i.idx_id) NoOfIDXs, count(n.nn_id) NoOfNNs, count(pg.pgm_id) NoOfPGMs, count(u.uqi_id) NoOfUQIs from DG_Attributes a left outer join DG_Tables t on a.Table_id = t.Table_ID left outer join DG_Attributes_ConstCheck c on c.Attributes_ID = a.Attributes_ID left outer join DG_Attributes_FK f on f.Attributes_ID = a.Attributes_ID left outer join DG_Attributes_Index i on i.Attributes_ID = a.Attributes_ID left outer join DG_Attributes_NotNull n on n.Attributes_ID = a.Attributes_ID left outer join DG_Attributes_PK p  on p.Attributes_ID = a.Attributes_ID left outer join DG_Attributes_Program pg on  pg.Attributes_ID = a.Attributes_ID left outer join DG_Attributes_Unique u on u.Attributes_ID = a.Attributes_ID join DG_Schema s on t.Database_ID = s.schema_ID group by schema_name, t.Table_Name\"\n",
    "\n",
    "df = pd.read_sql(query, conx)\n",
    "print(df)"
   ]
  },
  {
   "cell_type": "code",
   "execution_count": 189,
   "metadata": {},
   "outputs": [
    {
     "data": {
      "image/png": "[encoded data removed]",
      "text/plain": [
       "<Figure size 1080x864 with 1 Axes>"
      ]
     },
     "metadata": {
      "needs_background": "light"
     },
     "output_type": "display_data"
    }
   ],
   "source": [
    "df1 = df.groupby(['schema_name']).sum().plot(kind= 'bar', figsize=(15, 12))\n",
    "df1.tick_params(axis='x', labelsize=15)\n",
    "df1.tick_params(axis='y', labelsize=15)"
   ]
  },
  {
   "cell_type": "code",
   "execution_count": 183,
   "metadata": {},
   "outputs": [
    {
     "data": {
      "text/html": [
       "<div>\n",
       "<style scoped>\n",
       "    .dataframe tbody tr th:only-of-type {\n",
       "        vertical-align: middle;\n",
       "    }\n",
       "\n",
       "    .dataframe tbody tr th {\n",
       "        vertical-align: top;\n",
       "    }\n",
       "\n",
       "    .dataframe thead th {\n",
       "        text-align: right;\n",
       "    }\n",
       "</style>\n",
       "<table border=\"1\" class=\"dataframe\">\n",
       "  <thead>\n",
       "    <tr style=\"text-align: right;\">\n",
       "      <th></th>\n",
       "      <th>NumberOfAttributes</th>\n",
       "      <th>NoOfPKs</th>\n",
       "      <th>NoOfFKs</th>\n",
       "      <th>NoOfCCs</th>\n",
       "      <th>NoOfIDXs</th>\n",
       "      <th>NoOfNNs</th>\n",
       "      <th>NoOfPGMs</th>\n",
       "      <th>NoOfUQIs</th>\n",
       "    </tr>\n",
       "    <tr>\n",
       "      <th>schema_name</th>\n",
       "      <th></th>\n",
       "      <th></th>\n",
       "      <th></th>\n",
       "      <th></th>\n",
       "      <th></th>\n",
       "      <th></th>\n",
       "      <th></th>\n",
       "      <th></th>\n",
       "    </tr>\n",
       "  </thead>\n",
       "  <tbody>\n",
       "    <tr>\n",
       "      <th>Book</th>\n",
       "      <td>22</td>\n",
       "      <td>8</td>\n",
       "      <td>5</td>\n",
       "      <td>2</td>\n",
       "      <td>0</td>\n",
       "      <td>15</td>\n",
       "      <td>1</td>\n",
       "      <td>1</td>\n",
       "    </tr>\n",
       "    <tr>\n",
       "      <th>Camp</th>\n",
       "      <td>28</td>\n",
       "      <td>6</td>\n",
       "      <td>0</td>\n",
       "      <td>7</td>\n",
       "      <td>19</td>\n",
       "      <td>23</td>\n",
       "      <td>1</td>\n",
       "      <td>0</td>\n",
       "    </tr>\n",
       "    <tr>\n",
       "      <th>FURN</th>\n",
       "      <td>30</td>\n",
       "      <td>9</td>\n",
       "      <td>7</td>\n",
       "      <td>5</td>\n",
       "      <td>12</td>\n",
       "      <td>24</td>\n",
       "      <td>1</td>\n",
       "      <td>0</td>\n",
       "    </tr>\n",
       "    <tr>\n",
       "      <th>GAMES</th>\n",
       "      <td>28</td>\n",
       "      <td>7</td>\n",
       "      <td>6</td>\n",
       "      <td>7</td>\n",
       "      <td>11</td>\n",
       "      <td>10</td>\n",
       "      <td>1</td>\n",
       "      <td>0</td>\n",
       "    </tr>\n",
       "    <tr>\n",
       "      <th>PUBCO</th>\n",
       "      <td>37</td>\n",
       "      <td>0</td>\n",
       "      <td>0</td>\n",
       "      <td>0</td>\n",
       "      <td>0</td>\n",
       "      <td>0</td>\n",
       "      <td>0</td>\n",
       "      <td>0</td>\n",
       "    </tr>\n",
       "    <tr>\n",
       "      <th>Prop</th>\n",
       "      <td>59</td>\n",
       "      <td>11</td>\n",
       "      <td>0</td>\n",
       "      <td>0</td>\n",
       "      <td>20</td>\n",
       "      <td>0</td>\n",
       "      <td>0</td>\n",
       "      <td>0</td>\n",
       "    </tr>\n",
       "    <tr>\n",
       "      <th>SP</th>\n",
       "      <td>9</td>\n",
       "      <td>2</td>\n",
       "      <td>0</td>\n",
       "      <td>0</td>\n",
       "      <td>2</td>\n",
       "      <td>0</td>\n",
       "      <td>0</td>\n",
       "      <td>0</td>\n",
       "    </tr>\n",
       "    <tr>\n",
       "      <th>SPJ2</th>\n",
       "      <td>25</td>\n",
       "      <td>10</td>\n",
       "      <td>6</td>\n",
       "      <td>4</td>\n",
       "      <td>9</td>\n",
       "      <td>20</td>\n",
       "      <td>0</td>\n",
       "      <td>0</td>\n",
       "    </tr>\n",
       "    <tr>\n",
       "      <th>Zeota</th>\n",
       "      <td>365</td>\n",
       "      <td>93</td>\n",
       "      <td>84</td>\n",
       "      <td>36</td>\n",
       "      <td>141</td>\n",
       "      <td>166</td>\n",
       "      <td>38</td>\n",
       "      <td>0</td>\n",
       "    </tr>\n",
       "  </tbody>\n",
       "</table>\n",
       "</div>"
      ],
      "text/plain": [
       "             NumberOfAttributes  NoOfPKs  NoOfFKs  NoOfCCs  NoOfIDXs  NoOfNNs  \\\n",
       "schema_name                                                                     \n",
       "Book                         22        8        5        2         0       15   \n",
       "Camp                         28        6        0        7        19       23   \n",
       "FURN                         30        9        7        5        12       24   \n",
       "GAMES                        28        7        6        7        11       10   \n",
       "PUBCO                        37        0        0        0         0        0   \n",
       "Prop                         59       11        0        0        20        0   \n",
       "SP                            9        2        0        0         2        0   \n",
       "SPJ2                         25       10        6        4         9       20   \n",
       "Zeota                       365       93       84       36       141      166   \n",
       "\n",
       "             NoOfPGMs  NoOfUQIs  \n",
       "schema_name                      \n",
       "Book                1         1  \n",
       "Camp                1         0  \n",
       "FURN                1         0  \n",
       "GAMES               1         0  \n",
       "PUBCO               0         0  \n",
       "Prop                0         0  \n",
       "SP                  0         0  \n",
       "SPJ2                0         0  \n",
       "Zeota              38         0  "
      ]
     },
     "execution_count": 183,
     "metadata": {},
     "output_type": "execute_result"
    }
   ],
   "source": [
    "df1"
   ]
  },
  {
   "cell_type": "markdown",
   "metadata": {},
   "source": [
    "# 3. For every schema, list Table_ID, Table_Name, attribute_id, attribute_Name, PK_ID, FK_ID, NN_ID, constraint_type, and constraint_Name"
   ]
  },
  {
   "cell_type": "code",
   "execution_count": null,
   "metadata": {},
   "outputs": [],
   "source": [
    "#DO THIS AGAIN"
   ]
  },
  {
   "cell_type": "code",
   "execution_count": 210,
   "metadata": {},
   "outputs": [
    {
     "name": "stdout",
     "output_type": "stream",
     "text": [
      "   Database_ID schema_name  Not_Null\n",
      "0            1       Zeota       166\n",
      "1            6        Book        15\n",
      "2            7        Camp        23\n",
      "3            8        FURN        24\n",
      "4            9       GAMES        10\n",
      "5           10        SPJ2        20\n"
     ]
    }
   ],
   "source": [
    "pyodbc.drivers() #Create a variable to store the connection string \n",
    "\n",
    "conx_string = \"driver={SQL Server Native Client 11.0}; server=DESKTOP-HJQMQKK; database=DGDB; trusted_connection=YES\"\n",
    "query = \"select Database_ID,schema_name,count(Constraint_Type)as Not_Null from DG_Attributes_NotNull n inner join DG_Attributes a on a.Attributes_ID = n.Attributes_ID inner join DG_Tables t on t.Table_ID = a.Table_id inner join DG_schema s on s.schema_ID = t.database_id Group by Database_ID, schema_name\"\n",
    "\n",
    "df = pd.read_sql(query, conx)\n",
    "print(df)"
   ]
  },
  {
   "cell_type": "code",
   "execution_count": 211,
   "metadata": {},
   "outputs": [
    {
     "data": {
      "text/plain": [
       "<matplotlib.axes._subplots.AxesSubplot at 0x22b8f24d940>"
      ]
     },
     "execution_count": 211,
     "metadata": {},
     "output_type": "execute_result"
    },
    {
     "data": {
      "image/png": "[encoded data removed]",
      "text/plain": [
       "<Figure size 864x576 with 1 Axes>"
      ]
     },
     "metadata": {
      "needs_background": "light"
     },
     "output_type": "display_data"
    }
   ],
   "source": [
    "%matplotlib inline\n",
    "\n",
    "df.plot.bar(x='schema_name', y='Not_Null', figsize=(12, 8))"
   ]
  },
  {
   "cell_type": "markdown",
   "metadata": {},
   "source": [
    "# 4. For every schema, list tables with PK but without FK and IDX"
   ]
  },
  {
   "cell_type": "code",
   "execution_count": 190,
   "metadata": {},
   "outputs": [
    {
     "name": "stdout",
     "output_type": "stream",
     "text": [
      "   schema_name                  table_name Attributes_Name              PK_ID\n",
      "0         Book                      AUTHOR      AUTHOR_NUM      DGC_PK_ID_172\n",
      "1         Book                        Book       BOOK_CODE      DGC_PK_ID_170\n",
      "2         Book                        Book  PUBLISHER_CODE      DGC_PK_ID_173\n",
      "3         Book                      Branch      BRANCH_NUM      DGC_PK_ID_171\n",
      "4        GAMES                 \\tPRODUCT\\t         \\tPNO\\t  \\tDGC_PK_ID_196\\t\n",
      "5        Zeota  External_EMP_Certification       Recd_date       DGC_PK_ID_51\n",
      "6        Zeota       External_EMP_Training      start_date       DGC_PK_ID_52\n",
      "7        Zeota       Internal_EMP_Training      start_date       DGC_PK_ID_57\n",
      "8        Zeota                      salary       Salary_No       DGC_PK_ID_80\n",
      "9        Zeota               state_capital            city       DGC_PK_ID_83\n",
      "10       Zeota                   User_Role      start_date       DGC_PK_ID_88\n"
     ]
    }
   ],
   "source": [
    "pyodbc.drivers() #Create a variable to store the connection string \n",
    "\n",
    "conx_string = \"driver={SQL Server Native Client 11.0}; server=DESKTOP-HJQMQKK; database=DGDB; trusted_connection=YES\"\n",
    "query = \"select distinct schema_name, t.table_name, Attributes_Name, p.PK_ID from DG_Attributes a inner join DG_Tables t on t.Table_ID = a.Table_id left outer join DG_Attributes_PK p on p.Attributes_ID = a.Attributes_ID left outer join (select Attributes_ID from DG_Attributes_FK) f on f.Attributes_ID = a.Attributes_ID left outer join (select Attributes_ID from DG_Attributes_Index) i on i.Attributes_ID = a.Attributes_ID join DG_Schema s on t.Database_ID = s.schema_ID where f.Attributes_ID is null and i.Attributes_ID is null and p.Attributes_ID is not null\"\n",
    "df = pd.read_sql(query, conx)\n",
    "print(df)"
   ]
  },
  {
   "cell_type": "code",
   "execution_count": 208,
   "metadata": {},
   "outputs": [
    {
     "data": {
      "text/plain": [
       "Text(0.5, 1.0, 'PK Without FK and IDX')"
      ]
     },
     "execution_count": 208,
     "metadata": {},
     "output_type": "execute_result"
    },
    {
     "data": {
      "image/png": "[encoded data removed]",
      "text/plain": [
       "<Figure size 864x576 with 1 Axes>"
      ]
     },
     "metadata": {
      "needs_background": "light"
     },
     "output_type": "display_data"
    }
   ],
   "source": [
    "%matplotlib inline\n",
    "plt.figure(figsize=(12, 8))\n",
    "\n",
    "ax = sns.countplot(x='schema_name', data=df)\n",
    "ax.tick_params(axis='x', labelsize=15)\n",
    "ax.tick_params(axis='y', labelsize=15)\n",
    "ax.set_title(\"PK Without FK and IDX\", fontsize=15)\n"
   ]
  },
  {
   "cell_type": "markdown",
   "metadata": {},
   "source": [
    "# 5. For every database/schema, rank them according to number of NN (Not Null) have created\n"
   ]
  },
  {
   "cell_type": "code",
   "execution_count": 212,
   "metadata": {},
   "outputs": [
    {
     "name": "stdout",
     "output_type": "stream",
     "text": [
      "  schema_name  NN_Rank  CountNN\n",
      "0        Prop        1        0\n",
      "1       PUBCO        1        0\n",
      "2          SP        1        0\n",
      "3       GAMES        4       10\n",
      "4        Book        5       15\n",
      "5        SPJ2        6       20\n",
      "6        Camp        7       23\n",
      "7        FURN        8       24\n",
      "8       Zeota        9      166\n"
     ]
    }
   ],
   "source": [
    "pyodbc.drivers() #Create a variable to store the connection string \n",
    "\n",
    "conx_string = \"driver={SQL Server Native Client 11.0}; server=DESKTOP-HJQMQKK; database=DGDB; trusted_connection=YES\"\n",
    "query = \"select s.schema_name, rank () over (order by count (n.nn_id)) NN_Rank, count(n.nn_id) CountNN from DG_Attributes a inner join DG_Tables t on t.Table_ID = a.Table_id inner join DG_Schema s on s.schema_ID = t.Database_ID left outer join DG_Attributes_NotNull n on n.Attributes_ID = a.Attributes_ID group by s.schema_name\"\n",
    "df = pd.read_sql(query, conx)\n",
    "print(df)"
   ]
  },
  {
   "cell_type": "code",
   "execution_count": 221,
   "metadata": {},
   "outputs": [
    {
     "data": {
      "text/plain": [
       "<Figure size 864x576 with 0 Axes>"
      ]
     },
     "metadata": {},
     "output_type": "display_data"
    },
    {
     "data": {
      "image/png": "[encoded data removed]",
      "text/plain": [
       "<Figure size 1080x864 with 1 Axes>"
      ]
     },
     "metadata": {
      "needs_background": "light"
     },
     "output_type": "display_data"
    }
   ],
   "source": [
    "%matplotlib inline\n",
    "plt.figure(figsize=(12, 8))\n",
    "\n",
    "\n",
    "\n",
    "ax =df.set_index('schema_name').plot(kind= 'bar', figsize=(15, 12) )\n",
    "\n",
    "\n",
    "ax.set_title(\"Rank According to NN\", fontsize=15)\n",
    "ax.tick_params(axis='x', labelsize=15)\n",
    "ax.tick_params(axis='y', labelsize=15)"
   ]
  },
  {
   "cell_type": "markdown",
   "metadata": {},
   "source": [
    "# 6. For every database, list tables without PK"
   ]
  },
  {
   "cell_type": "code",
   "execution_count": 259,
   "metadata": {},
   "outputs": [
    {
     "name": "stdout",
     "output_type": "stream",
     "text": [
      "  schema_name                  Table_Name\n",
      "0       Zeota  External_EMP_Certification\n",
      "1       Zeota                 Dept_Branch\n",
      "2        Book                   PUBLISHER\n"
     ]
    }
   ],
   "source": [
    "pyodbc.drivers() #Create a variable to store the connection string \n",
    "\n",
    "conx_string = \"driver={SQL Server Native Client 11.0}; server=DESKTOP-HJQMQKK; database=DGDB; trusted_connection=YES\"\n",
    "query = \"select schema_name, Table_Name from DG_Tables t join DG_Schema s on t.Database_ID = s.schema_ID where t.Table_Name not in ( select distinct t.table_name from DG_Attributes a inner join DG_Tables t on t.Table_ID = a.Table_id left outer join DG_Attributes_PK p on p.Attributes_ID = a.Attributes_ID left outer join (select Attributes_ID from DG_Attributes_FK) f on f.Attributes_ID = a.Attributes_ID left outer join (select Attributes_ID from DG_Attributes_Index) i on i.Attributes_ID = a.Attributes_ID join DG_Schema s on t.Database_ID = s.schema_ID where p.Attributes_ID is null)\"\n",
    "df = pd.read_sql(query, conx)\n",
    "print(df)"
   ]
  },
  {
   "cell_type": "code",
   "execution_count": 260,
   "metadata": {
    "scrolled": false
   },
   "outputs": [
    {
     "data": {
      "image/png": "[encoded data removed]",
      "text/plain": [
       "<Figure size 1080x864 with 1 Axes>"
      ]
     },
     "metadata": {
      "needs_background": "light"
     },
     "output_type": "display_data"
    }
   ],
   "source": [
    "%matplotlib inline\n",
    "plt.figure(figsize=(15, 12))\n",
    "\n",
    "\n",
    "ax = sns.countplot(x ='schema_name', data=df)\n",
    "\n",
    "ax.set_title(\"Tables that do not have PK\", fontsize=15)\n",
    "ax.tick_params(axis='x', labelsize=15)\n",
    "ax.tick_params(axis='y', labelsize=15)"
   ]
  },
  {
   "cell_type": "markdown",
   "metadata": {},
   "source": [
    "# 7. For every database, list tables without IDX"
   ]
  },
  {
   "cell_type": "code",
   "execution_count": 261,
   "metadata": {},
   "outputs": [
    {
     "name": "stdout",
     "output_type": "stream",
     "text": [
      "  schema_name            Table_Name\n",
      "0        FURN  \\tPRODUCT_CATEGORY\\t\n",
      "1       GAMES               \\tJOB\\t\n",
      "2        SPJ2                 \\tW\\t\n",
      "3       Zeota              Training\n",
      "4       Zeota           Dept_Branch\n",
      "5        Book             PUBLISHER\n"
     ]
    }
   ],
   "source": [
    "pyodbc.drivers() #Create a variable to store the connection string \n",
    "\n",
    "conx_string = \"driver={SQL Server Native Client 11.0}; server=DESKTOP-HJQMQKK; database=DGDB; trusted_connection=YES\"\n",
    "query = \"select schema_name, Table_Name from DG_Tables t join DG_Schema s on t.Database_ID = s.schema_ID where t.Table_Name not in ( select distinct t.table_name from DG_Attributes a inner join DG_Tables t on t.Table_ID = a.Table_id left outer join DG_Attributes_PK p on p.Attributes_ID = a.Attributes_ID left outer join (select Attributes_ID from DG_Attributes_FK) f on f.Attributes_ID = a.Attributes_ID left outer join (select Attributes_ID from DG_Attributes_Index) i on i.Attributes_ID = a.Attributes_ID join DG_Schema s on t.Database_ID = s.schema_ID where i.Attributes_ID is null)\"\n",
    "\n",
    "\n",
    "df = pd.read_sql(query, conx)\n",
    "print(df)"
   ]
  },
  {
   "cell_type": "code",
   "execution_count": 262,
   "metadata": {},
   "outputs": [
    {
     "data": {
      "image/png": "[encoded data removed]",
      "text/plain": [
       "<Figure size 1080x864 with 1 Axes>"
      ]
     },
     "metadata": {
      "needs_background": "light"
     },
     "output_type": "display_data"
    }
   ],
   "source": [
    "%matplotlib inline\n",
    "plt.figure(figsize=(15, 12))\n",
    "\n",
    "\n",
    "ax = sns.countplot(x ='schema_name', data=df)\n",
    "\n",
    "ax.set_title(\"Tables that do not have IDX\", fontsize=15)\n",
    "ax.tick_params(axis='x', labelsize=15)\n",
    "ax.tick_params(axis='y', labelsize=15)"
   ]
  },
  {
   "cell_type": "markdown",
   "metadata": {},
   "source": [
    "# 8. For every database, list tables with PK but without FK"
   ]
  },
  {
   "cell_type": "code",
   "execution_count": 242,
   "metadata": {},
   "outputs": [
    {
     "name": "stdout",
     "output_type": "stream",
     "text": [
      "   schema_name          table_name Attributes_Name              PK_ID FK_ID  \\\n",
      "0         Book              AUTHOR      AUTHOR_NUM      DGC_PK_ID_172  None   \n",
      "1         Book                Book       BOOK_CODE      DGC_PK_ID_170  None   \n",
      "2         Book                Book  PUBLISHER_CODE      DGC_PK_ID_173  None   \n",
      "3         Book              Branch      BRANCH_NUM      DGC_PK_ID_171  None   \n",
      "4         Camp         \\tADDRESS\\t       \\tADDID\\t  \\tDGC_PK_ID_176\\t  None   \n",
      "..         ...                 ...             ...                ...   ...   \n",
      "90       Zeota              VENDOR       VENDOR_NO       DGC_PK_ID_89  None   \n",
      "91       Zeota  Vendor_QTYDISCOUNT  QTYDISCOUNT_NO       DGC_PK_ID_90  None   \n",
      "92       Zeota         VENDORPRICE       VPRICE_NO       DGC_PK_ID_91  None   \n",
      "93       Zeota     Vndor_PROMOTION            VPID       DGC_PK_ID_92  None   \n",
      "94       Zeota           Warehouse    warehouse_no       DGC_PK_ID_93  None   \n",
      "\n",
      "             IDX_ID  \n",
      "0              None  \n",
      "1              None  \n",
      "2              None  \n",
      "3              None  \n",
      "4   \\tDGA_ID_1173\\t  \n",
      "..              ...  \n",
      "90       DGA_ID_296  \n",
      "91       DGA_ID_305  \n",
      "92       DGA_ID_309  \n",
      "93       DGA_ID_313  \n",
      "94       DGA_ID_319  \n",
      "\n",
      "[95 rows x 6 columns]\n"
     ]
    }
   ],
   "source": [
    "pyodbc.drivers() #Create a variable to store the connection string \n",
    "\n",
    "conx_string = \"driver={SQL Server Native Client 11.0}; server=DESKTOP-HJQMQKK; database=DGDB; trusted_connection=YES\"\n",
    "query = \"select distinct schema_name, t.table_name, Attributes_Name, p.PK_ID, f.Attributes_ID as FK_ID, i.Attributes_ID as IDX_ID from DG_Attributes a inner join DG_Tables t on t.Table_ID = a.Table_id left outer join DG_Attributes_PK p on p.Attributes_ID = a.Attributes_ID left outer join (select Attributes_ID from DG_Attributes_FK) f on f.Attributes_ID = a.Attributes_ID left outer join (select Attributes_ID from DG_Attributes_Index) i on i.Attributes_ID = a.Attributes_ID join DG_Schema s on t.Database_ID = s.schema_ID where f.Attributes_ID is null and p.Attributes_ID is not null\"\n",
    "\n",
    "df = pd.read_sql(query, conx)\n",
    "print(df)"
   ]
  },
  {
   "cell_type": "code",
   "execution_count": 243,
   "metadata": {},
   "outputs": [
    {
     "data": {
      "image/png": "[encoded data removed]",
      "text/plain": [
       "<Figure size 1080x864 with 1 Axes>"
      ]
     },
     "metadata": {
      "needs_background": "light"
     },
     "output_type": "display_data"
    }
   ],
   "source": [
    "%matplotlib inline\n",
    "plt.figure(figsize=(15, 12))\n",
    "\n",
    "\n",
    "ax = sns.countplot(x ='schema_name', data=df)\n",
    "\n",
    "ax.set_title(\"Tables that has PK but not FK\", fontsize=15)\n",
    "ax.tick_params(axis='x', labelsize=15)\n",
    "ax.tick_params(axis='y', labelsize=15)"
   ]
  },
  {
   "cell_type": "markdown",
   "metadata": {},
   "source": [
    "# 9. For every database/schema, list tables with PK but without IDX"
   ]
  },
  {
   "cell_type": "code",
   "execution_count": 244,
   "metadata": {},
   "outputs": [
    {
     "name": "stdout",
     "output_type": "stream",
     "text": [
      "   schema_name                  Table_Name Attributes_Name              PK_ID  \\\n",
      "0         FURN              \\tORDER_LINE\\t         \\tPNO\\t  \\tDGC_PK_ID_186\\t   \n",
      "1         FURN              \\tORDER_LINE\\t    \\tORDER_ID\\t  \\tDGC_PK_ID_187\\t   \n",
      "2        GAMES              \\tORDER_LINE\\t         \\tONO\\t  \\tDGC_PK_ID_194\\t   \n",
      "3        GAMES              \\tORDER_LINE\\t         \\tPNO\\t  \\tDGC_PK_ID_195\\t   \n",
      "4        GAMES                 \\tPRODUCT\\t         \\tPNO\\t  \\tDGC_PK_ID_196\\t   \n",
      "5         SPJ2                     \\tSPW\\t          \\tS#\\t  \\tDGC_PK_ID_205\\t   \n",
      "6         SPJ2                     \\tSPW\\t          \\tP#\\t  \\tDGC_PK_ID_206\\t   \n",
      "7         SPJ2                     \\tSPW\\t          \\tW#\\t  \\tDGC_PK_ID_207\\t   \n",
      "8         SPJ2                     \\tSPJ\\t          \\tS#\\t  \\tDGC_PK_ID_208\\t   \n",
      "9         SPJ2                     \\tSPJ\\t          \\tP#\\t  \\tDGC_PK_ID_209\\t   \n",
      "10        SPJ2                     \\tSPJ\\t          \\tJ#\\t  \\tDGC_PK_ID_210\\t   \n",
      "11       Zeota  External_EMP_Certification       Recd_date       DGC_PK_ID_51   \n",
      "12       Zeota       External_EMP_Training      start_date       DGC_PK_ID_52   \n",
      "13       Zeota       Internal_EMP_Training      start_date       DGC_PK_ID_57   \n",
      "14       Zeota                      salary       Salary_No       DGC_PK_ID_80   \n",
      "15       Zeota               state_capital            city       DGC_PK_ID_83   \n",
      "16       Zeota               state_capital           state       DGC_PK_ID_35   \n",
      "17       Zeota                   User_Role      start_date       DGC_PK_ID_88   \n",
      "18        Book                        Book  PUBLISHER_CODE      DGC_PK_ID_173   \n",
      "19        Book                        Book       BOOK_CODE      DGC_PK_ID_170   \n",
      "20        Book                      Branch      BRANCH_NUM      DGC_PK_ID_171   \n",
      "21        Book                      AUTHOR      AUTHOR_NUM      DGC_PK_ID_172   \n",
      "22        Book                  INVENTORYr       BOOK_CODE      DGC_PK_ID_174   \n",
      "23        Book                  INVENTORYr      BRANCH_NUM      DGC_PK_ID_175   \n",
      "24        Book                       WROTE       BOOK_CODE      DGC_PK_ID_176   \n",
      "25        Book                       WROTE      AUTHOR_NUM      DGC_PK_ID_177   \n",
      "\n",
      "   IDX_ID  \n",
      "0    None  \n",
      "1    None  \n",
      "2    None  \n",
      "3    None  \n",
      "4    None  \n",
      "5    None  \n",
      "6    None  \n",
      "7    None  \n",
      "8    None  \n",
      "9    None  \n",
      "10   None  \n",
      "11   None  \n",
      "12   None  \n",
      "13   None  \n",
      "14   None  \n",
      "15   None  \n",
      "16   None  \n",
      "17   None  \n",
      "18   None  \n",
      "19   None  \n",
      "20   None  \n",
      "21   None  \n",
      "22   None  \n",
      "23   None  \n",
      "24   None  \n",
      "25   None  \n"
     ]
    }
   ],
   "source": [
    "pyodbc.drivers() #Create a variable to store the connection string \n",
    "\n",
    "conx_string = \"driver={SQL Server Native Client 11.0}; server=DESKTOP-HJQMQKK; database=DGDB; trusted_connection=YES\"\n",
    "query = \"Select schema_name, t.Table_Name, a.Attributes_Name, p.PK_ID,u.IDX_ID From DG_Attributes a inner join DG_Attributes_PK p on a.Attributes_ID=p.Attributes_ID left outer join DG_Attributes_Index u on a.Attributes_ID=u.Attributes_ID join DG_Tables t on a.Table_id = t.Table_ID join DG_Schema s on t.Database_ID = s.schema_ID where u.Attributes_ID is null order by a.Table_id;\"\n",
    "\n",
    "df = pd.read_sql(query, conx)\n",
    "print(df)"
   ]
  },
  {
   "cell_type": "code",
   "execution_count": 246,
   "metadata": {},
   "outputs": [
    {
     "data": {
      "image/png": "[encoded data removed]",
      "text/plain": [
       "<Figure size 1080x864 with 1 Axes>"
      ]
     },
     "metadata": {
      "needs_background": "light"
     },
     "output_type": "display_data"
    }
   ],
   "source": [
    "%matplotlib inline\n",
    "plt.figure(figsize=(15, 12))\n",
    "\n",
    "\n",
    "ax = sns.countplot(x ='schema_name', data=df)\n",
    "\n",
    "ax.set_title(\"Tables that have PK but without IDX\", fontsize=15)\n",
    "ax.tick_params(axis='x', labelsize=15)\n",
    "ax.tick_params(axis='y', labelsize=15)"
   ]
  },
  {
   "cell_type": "markdown",
   "metadata": {},
   "source": [
    "# 10. For every database/schema, list tables with CC"
   ]
  },
  {
   "cell_type": "code",
   "execution_count": 247,
   "metadata": {},
   "outputs": [
    {
     "name": "stdout",
     "output_type": "stream",
     "text": [
      "   schema_name          Table_Name Attributes_Name             CC_ID\n",
      "0         Camp         \\tADDRESS\\t       \\tSTATE\\t  \\tDGC_CC_ID_51\\t\n",
      "1         Camp        \\tEMPLOYEE\\t     \\tEMP_SEX\\t  \\tDGC_CC_ID_52\\t\n",
      "2         Camp        \\tEMPLOYEE\\t  \\tEMP_STATUS\\t  \\tDGC_CC_ID_53\\t\n",
      "3         FURN        \\tEMPLOYEE\\t     \\tEMP_SEX\\t  \\tDGC_CC_ID_53\\t\n",
      "4         Camp          \\tORDERS\\t   \\tORDER_QTY\\t  \\tDGC_CC_ID_54\\t\n",
      "..         ...                 ...             ...               ...\n",
      "56        Book          INVENTORYr         ON_HAND      DGC_CC_ID_50\n",
      "57       Zeota  Vendor_QTYDISCOUNT         D_PRICE       DGC_CC_ID_6\n",
      "58       Zeota  Vendor_QTYDISCOUNT         MIN_QTY       DGC_CC_ID_7\n",
      "59       Zeota         VENDORPRICE          VPRICE       DGC_CC_ID_8\n",
      "60       Zeota            CUSTOMER           STATE       DGC_CC_ID_9\n",
      "\n",
      "[61 rows x 4 columns]\n"
     ]
    }
   ],
   "source": [
    "pyodbc.drivers() #Create a variable to store the connection string \n",
    "\n",
    "conx_string = \"driver={SQL Server Native Client 11.0}; server=DESKTOP-HJQMQKK; database=DGDB; trusted_connection=YES\"\n",
    "query = \"SELECT s.schema_name, t.Table_Name, a.Attributes_Name, c.CC_ID FROM DG_Attributes a inner join DG_Attributes_ConstCheck c on a.Attributes_ID = c.Attributes_ID join DG_Tables t on a.Table_id = t.Table_ID join DG_Schema s on t.Database_ID = s.schema_ID\"\n",
    "df = pd.read_sql(query, conx)\n",
    "print(df)"
   ]
  },
  {
   "cell_type": "code",
   "execution_count": 252,
   "metadata": {},
   "outputs": [
    {
     "data": {
      "image/png": "[encoded data removed]",
      "text/plain": [
       "<Figure size 1080x864 with 1 Axes>"
      ]
     },
     "metadata": {
      "needs_background": "light"
     },
     "output_type": "display_data"
    }
   ],
   "source": [
    "%matplotlib inline\n",
    "plt.figure(figsize=(15, 12))\n",
    "\n",
    "\n",
    "ax = sns.countplot(x ='schema_name', data=df)\n",
    "\n",
    "ax.set_title(\"List of tables with CC\", fontsize=15)\n",
    "ax.tick_params(axis='x', labelsize=15)\n",
    "ax.tick_params(axis='y', labelsize=15)"
   ]
  },
  {
   "cell_type": "markdown",
   "metadata": {},
   "source": [
    "# 11. For every database/schema, list tables with PGM"
   ]
  },
  {
   "cell_type": "code",
   "execution_count": 253,
   "metadata": {},
   "outputs": [
    {
     "name": "stdout",
     "output_type": "stream",
     "text": [
      "   schema_name               Table_Name        Attributes_Name  \\\n",
      "0         Camp               \\tORDERS\\t    \\tCUST_ORDER_DATE\\t   \n",
      "1         FURN               \\tORDERS\\t    \\tCUST_ORDER_DATE\\t   \n",
      "2        GAMES               \\tORDERS\\t         \\tORDER_DATE\\t   \n",
      "3        Zeota              EMP_payroll                 amount   \n",
      "4        Zeota               RETURNPROD        AMOUNT_REFUNDED   \n",
      "5        Zeota              EMP_payroll                 Emp_NO   \n",
      "6        Zeota              EMP_payroll             payroll_NO   \n",
      "7        Zeota         Sales_commission                 Emp_NO   \n",
      "8        Zeota         Sales_commission               order_NO   \n",
      "9        Zeota                User_Role             start_date   \n",
      "10       Zeota                backorder                bo_date   \n",
      "11       Zeota                backorder                 bo_qty   \n",
      "12       Zeota                   ORDERS             ORDER_DATE   \n",
      "13       Zeota               PRODVENDOR             ORDER_DATE   \n",
      "14       Zeota                  PRODUCT             UNIT_PRICE   \n",
      "15       Zeota         Sales_commission              Comm_date   \n",
      "16       Zeota                User_Role               end_date   \n",
      "17       Zeota                 CUSTOMER                BALANCE   \n",
      "18       Zeota              Dept_Tables               end_date   \n",
      "19       Zeota              Dept_Tables             start_date   \n",
      "20       Zeota                   ORDERS  Expected_receive_Date   \n",
      "21       Zeota                   ORDERS              SHIP_DATE   \n",
      "22       Zeota                   ORDERS        SHIPPING_CHARGE   \n",
      "23       Zeota                   ORDERS               SUBTOTAL   \n",
      "24       Zeota                   ORDERS                TAX_AMT   \n",
      "25       Zeota                 CUSTOMER           CREDIT_LIMIT   \n",
      "26       Zeota                   ORDERS              TOTAL_AMT   \n",
      "27       Zeota                  PRODUCT             AVAIL_DATE   \n",
      "28       Zeota                  PRODUCT                    QOH   \n",
      "29       Zeota               PRODVENDOR     EXPECTED_SHIP_DATE   \n",
      "30       Zeota               PRODVENDOR              SHIP_DATE   \n",
      "31       Zeota               PRODVENDOR        shipping_charge   \n",
      "32       Zeota  Return_Sales_Commission           Ret_Com_Date   \n",
      "33       Zeota         Sales_commission                 Amount   \n",
      "34       Zeota           Ship2Warehouse    EXPECTED_RECVD_DATE   \n",
      "35       Zeota               Dependents                 Gender   \n",
      "36        Book                    WROTE               SEQUENCE   \n",
      "37       Zeota           Education_Type              Type_name   \n",
      "38       Zeota                   ORDERS             TAX_STATUS   \n",
      "39       Zeota  Return_Sales_Commission                 Amount   \n",
      "40       Zeota            Return2Vendor                 Amount   \n",
      "41       Zeota            Return2Vendor                    QTY   \n",
      "\n",
      "               PGM_ID  \n",
      "0   \\tDGC_PGM_ID_47\\t  \n",
      "1   \\tDGC_PGM_ID_48\\t  \n",
      "2   \\tDGC_PGM_ID_49\\t  \n",
      "3        DGC_PGM_ID_1  \n",
      "4       DGC_PGM_ID_10  \n",
      "5       DGC_PGM_ID_11  \n",
      "6       DGC_PGM_ID_12  \n",
      "7       DGC_PGM_ID_13  \n",
      "8       DGC_PGM_ID_14  \n",
      "9       DGC_PGM_ID_15  \n",
      "10      DGC_PGM_ID_16  \n",
      "11      DGC_PGM_ID_17  \n",
      "12      DGC_PGM_ID_18  \n",
      "13      DGC_PGM_ID_19  \n",
      "14       DGC_PGM_ID_2  \n",
      "15      DGC_PGM_ID_20  \n",
      "16      DGC_PGM_ID_21  \n",
      "17      DGC_PGM_ID_22  \n",
      "18      DGC_PGM_ID_23  \n",
      "19      DGC_PGM_ID_24  \n",
      "20      DGC_PGM_ID_25  \n",
      "21      DGC_PGM_ID_26  \n",
      "22      DGC_PGM_ID_27  \n",
      "23      DGC_PGM_ID_28  \n",
      "24      DGC_PGM_ID_29  \n",
      "25       DGC_PGM_ID_3  \n",
      "26      DGC_PGM_ID_30  \n",
      "27      DGC_PGM_ID_31  \n",
      "28      DGC_PGM_ID_32  \n",
      "29      DGC_PGM_ID_33  \n",
      "30      DGC_PGM_ID_34  \n",
      "31      DGC_PGM_ID_35  \n",
      "32      DGC_PGM_ID_36  \n",
      "33      DGC_PGM_ID_37  \n",
      "34      DGC_PGM_ID_38  \n",
      "35       DGC_PGM_ID_4  \n",
      "36      DGC_PGM_ID_46  \n",
      "37       DGC_PGM_ID_5  \n",
      "38       DGC_PGM_ID_6  \n",
      "39       DGC_PGM_ID_7  \n",
      "40       DGC_PGM_ID_8  \n",
      "41       DGC_PGM_ID_9  \n"
     ]
    }
   ],
   "source": [
    "pyodbc.drivers() #Create a variable to store the connection string \n",
    "\n",
    "conx_string = \"driver={SQL Server Native Client 11.0}; server=DESKTOP-HJQMQKK; database=DGDB; trusted_connection=YES\"\n",
    "query = \"SELECT s.schema_name, t.Table_Name, a.Attributes_Name, p.PGM_ID FROM DG_Attributes a inner join DG_Attributes_Program p on a.Attributes_ID = p.Attributes_ID join DG_Tables t on a.Table_id = t.Table_ID join DG_Schema s on t.Database_ID = s.schema_ID\"\n",
    "df = pd.read_sql(query, conx)\n",
    "print(df)"
   ]
  },
  {
   "cell_type": "code",
   "execution_count": 254,
   "metadata": {},
   "outputs": [
    {
     "data": {
      "image/png": "[encoded data removed]",
      "text/plain": [
       "<Figure size 1080x864 with 1 Axes>"
      ]
     },
     "metadata": {
      "needs_background": "light"
     },
     "output_type": "display_data"
    }
   ],
   "source": [
    "%matplotlib inline\n",
    "plt.figure(figsize=(15, 12))\n",
    "\n",
    "\n",
    "ax = sns.countplot(x ='schema_name', data=df)\n",
    "\n",
    "ax.set_title(\"List of tables with PGM\", fontsize=15)\n",
    "ax.tick_params(axis='x', labelsize=15)\n",
    "ax.tick_params(axis='y', labelsize=15)"
   ]
  },
  {
   "cell_type": "markdown",
   "metadata": {},
   "source": [
    "# 12. For every database/schema, list all views (View name, View description)"
   ]
  },
  {
   "cell_type": "code",
   "execution_count": null,
   "metadata": {},
   "outputs": [],
   "source": []
  },
  {
   "cell_type": "code",
   "execution_count": null,
   "metadata": {},
   "outputs": [],
   "source": []
  },
  {
   "cell_type": "markdown",
   "metadata": {},
   "source": [
    "# 13. For every database/schema, list all table with audit table"
   ]
  },
  {
   "cell_type": "code",
   "execution_count": 160,
   "metadata": {},
   "outputs": [
    {
     "name": "stdout",
     "output_type": "stream",
     "text": [
      "  schema_name               table_name\n",
      "0       Zeota                   ORDERS\n",
      "1       Zeota                  PRODUCT\n",
      "2       Zeota  Return_Sales_Commission\n",
      "3       Zeota               RETURNPROD\n",
      "4       Zeota                    Roles\n",
      "5       Zeota         Sales_commission\n",
      "6       Zeota                   Skill \n"
     ]
    }
   ],
   "source": [
    "pyodbc.drivers() #Create a variable to store the connection string \n",
    "\n",
    "conx_string = \"driver={SQL Server Native Client 11.0}; server=DESKTOP-HJQMQKK; database=DGDB; trusted_connection=YES\"\n",
    "query = \"select s.schema_name, t.table_name from DG_Tables t inner join DG_Schema s on s.schema_ID = t.Database_ID inner join DG_Audit_Table a on a.Table_ID = t.Table_ID group by s.schema_name, t.Table_Name\"\n",
    "\n",
    "df = pd.read_sql(query, conx)\n",
    "print(df)"
   ]
  },
  {
   "cell_type": "code",
   "execution_count": 163,
   "metadata": {},
   "outputs": [
    {
     "data": {
      "image/png": "[encoded data removed]",
      "text/plain": [
       "<Figure size 144x576 with 1 Axes>"
      ]
     },
     "metadata": {
      "needs_background": "light"
     },
     "output_type": "display_data"
    }
   ],
   "source": [
    "\n",
    "%matplotlib inline\n",
    "\n",
    "ax = sns.countplot(x=\"schema_name\", data=df)\n",
    "plt.gcf().set_size_inches(2, 8)\n",
    "\n",
    "ax.tick_params(axis='x', labelsize=15)\n",
    "ax.tick_params(axis='y', labelsize=15)\n",
    "\n",
    "\n",
    "\n",
    "#ax = df.plot.bar(x='schema_name', y='table_name', figsize=(15, 12))"
   ]
  },
  {
   "cell_type": "markdown",
   "metadata": {},
   "source": [
    "# 14. For every database/schema, list schema, users, role, Dept"
   ]
  },
  {
   "cell_type": "code",
   "execution_count": 165,
   "metadata": {},
   "outputs": [
    {
     "name": "stdout",
     "output_type": "stream",
     "text": [
      "   ZEOTA  Zeota  Roles  Dept\n",
      "0     88     88      9     9\n"
     ]
    }
   ],
   "source": [
    "pyodbc.drivers() #Create a variable to store the connection string \n",
    "\n",
    "conx_string = \"driver={SQL Server Native Client 11.0}; server=DESKTOP-HJQMQKK; database=DGDB; trusted_connection=YES\"\n",
    "query = \"select count(status) as ZEOTA, Count (schema_name) as Zeota, COUNT (DISTINCT ROLE_NAME) AS Roles, COUNT (DISTINCT Unit_name) as Dept from DG_User_Database d inner join DG_Schema s on s.schema_ID = d.Database_ID inner join DG_Users u on u.User_ID = d.User_ID inner join DG_User_Unit_Role ur on ur.User_ID = u.User_ID inner join DG_Role r on r.Role_ID = ur.Role_ID inner join DG_Unit un on un.Unit_ID = ur.Unit_ID\"\n",
    "\n",
    "df = pd.read_sql(query, conx)\n",
    "print(df)"
   ]
  },
  {
   "cell_type": "code",
   "execution_count": 166,
   "metadata": {},
   "outputs": [
    {
     "data": {
      "image/png": "[encoded data removed]",
      "text/plain": [
       "<Figure size 1080x864 with 1 Axes>"
      ]
     },
     "metadata": {
      "needs_background": "light"
     },
     "output_type": "display_data"
    }
   ],
   "source": [
    "import matplotlib.pyplot as plt\n",
    "\n",
    "\n",
    "ax =df.set_index('ZEOTA').plot(kind= 'bar', figsize=(15, 12) )\n",
    "\n",
    "\n",
    "ax.tick_params(axis='x', labelsize=15)\n",
    "ax.tick_params(axis='y', labelsize=15)\n"
   ]
  },
  {
   "cell_type": "markdown",
   "metadata": {},
   "source": [
    "# 15. For every database/schema, list schema equipped with triggers to manage change in users"
   ]
  },
  {
   "cell_type": "code",
   "execution_count": null,
   "metadata": {},
   "outputs": [],
   "source": []
  },
  {
   "cell_type": "code",
   "execution_count": null,
   "metadata": {},
   "outputs": [],
   "source": []
  },
  {
   "cell_type": "markdown",
   "metadata": {},
   "source": [
    "# 16. For every database/schema, list schema, dept, role, tables"
   ]
  },
  {
   "cell_type": "code",
   "execution_count": 255,
   "metadata": {},
   "outputs": [
    {
     "name": "stdout",
     "output_type": "stream",
     "text": [
      "           TableName schema_name                      Roles               Dept\n",
      "0          backorder       Zeota              Sales Manager              Sales\n",
      "1          backorder       Zeota                Sales Staff              Sales\n",
      "2             BRANCH       Zeota              Sales Manager              Sales\n",
      "3             BRANCH       Zeota                Sales Staff              Sales\n",
      "4        Branch_Size       Zeota              Sales Manager              Sales\n",
      "..               ...         ...                        ...                ...\n",
      "133      VENDORPRICE       Zeota           Purchasing Staff         Purchasing\n",
      "134  Vndor_PROMOTION       Zeota          Marketing Manager          Marketing\n",
      "135  Vndor_PROMOTION       Zeota            Marketing Staff          Marketing\n",
      "136        Warehouse       Zeota  Product-Warehouse Manager  Product_Warehouse\n",
      "137        Warehouse       Zeota    Product-Warehouse Staff  Product_Warehouse\n",
      "\n",
      "[138 rows x 4 columns]\n"
     ]
    }
   ],
   "source": [
    "pyodbc.drivers() #Create a variable to store the connection string \n",
    "\n",
    "conx_string = \"driver={SQL Server Native Client 11.0}; server=DESKTOP-HJQMQKK; database=DGDB; trusted_connection=YES\"\n",
    "query = \"select t.table_name as TableName, s.schema_name, r.role_name as Roles, un.unit_name as Dept from DG_tables t inner join DG_Unit_Role_Table ur on ur.Table_id = t.Table_ID inner join DG_Schema s on s.schema_ID = t.Database_ID inner join DG_Role r on r.Role_ID = ur.Role_ID inner join DG_Unit un on un.Unit_ID = ur.Unit_ID group by t.Table_Name, s.schema_name, r.Role_Name, un.Unit_Name\"\n",
    "df = pd.read_sql(query, conx)\n",
    "print(df)\n"
   ]
  },
  {
   "cell_type": "markdown",
   "metadata": {},
   "source": [
    "# 17. For every database/schema, list schemas equipped with triggers to manage change in dept/tables"
   ]
  },
  {
   "cell_type": "code",
   "execution_count": 9,
   "metadata": {},
   "outputs": [
    {
     "name": "stdout",
     "output_type": "stream",
     "text": [
      "  schema_name               table_name                            tname  \\\n",
      "0       Zeota                   ORDERS             ORDERS_BEFORE_UPDATE   \n",
      "1       Zeota                  PRODUCT                  product_UPDATE    \n",
      "2       Zeota  Return_Sales_Commission  return_sales_commission_before    \n",
      "3       Zeota               RETURNPROD        returnprod_BEFORE_UPDATE    \n",
      "4       Zeota         Sales_commission         sales_commission_before    \n",
      "\n",
      "                Dept  \n",
      "0              Sales  \n",
      "1  Product_Warehouse  \n",
      "2          Marketing  \n",
      "3              Sales  \n",
      "4          Marketing  \n"
     ]
    }
   ],
   "source": [
    "pyodbc.drivers() #Create a variable to store the connection string \n",
    "\n",
    "conx_string = \"driver={SQL Server Native Client 11.0}; server=DESKTOP-HJQMQKK; database=DGDB; trusted_connection=YES\"\n",
    "query = \"select s.schema_name, t.table_name, tr.tname, u.unit_name as Dept from DG_Unit u inner join DG_Unit_Role_Table un on un.Unit_ID = u.Unit_ID inner join DG_Base_Trigger_Table tr on tr.Table_ID = un.Table_id inner join DG_Tables t on t.Table_ID = tr.Table_ID inner join DG_Schema s on s.schema_ID = t.Database_ID group by s.schema_name, t.table_name, tr.tname, u.unit_name\"\n",
    "df = pd.read_sql(query, conx)\n",
    "print(df)"
   ]
  },
  {
   "cell_type": "code",
   "execution_count": null,
   "metadata": {},
   "outputs": [],
   "source": []
  },
  {
   "cell_type": "markdown",
   "metadata": {},
   "source": [
    "# 18. For every database/schema, list schemas equipped with triggers to manage volation severity"
   ]
  },
  {
   "cell_type": "code",
   "execution_count": null,
   "metadata": {},
   "outputs": [],
   "source": []
  },
  {
   "cell_type": "code",
   "execution_count": null,
   "metadata": {},
   "outputs": [],
   "source": []
  }
 ],
 "metadata": {
  "kernelspec": {
   "display_name": "Python 3 (ipykernel)",
   "language": "python",
   "name": "python3"
  },
  "language_info": {
   "codemirror_mode": {
    "name": "ipython",
    "version": 3
   },
   "file_extension": ".py",
   "mimetype": "text/x-python",
   "name": "python",
   "nbconvert_exporter": "python",
   "pygments_lexer": "ipython3",
   "version": "3.8.3"
  }
 },
 "nbformat": 4,
 "nbformat_minor": 4
}
